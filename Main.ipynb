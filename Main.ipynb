{
 "cells": [
  {
   "cell_type": "markdown",
   "id": "aecb68d0-00d2-4f66-8b7d-dad82c1de94b",
   "metadata": {},
   "source": [
    "# Importing the dependencies and Importing the dataset in a data frame:\n",
    "## Then splitting the entries that have Harry Potter at the beggining of the title into a different variable."
   ]
  },
  {
   "cell_type": "code",
   "execution_count": 82,
   "id": "08da805e-6cea-4b00-896d-fd0858590633",
   "metadata": {},
   "outputs": [
    {
     "name": "stdout",
     "output_type": "stream",
     "text": [
      "All Harry Potter books:\n",
      "\n",
      "     book_id  goodreads_book_id  best_book_id   work_id  books_count  \\\n",
      "1          2                  3             3   4640799          491   \n",
      "6         18                  5             5   2402163          376   \n",
      "8         21                  2             2   2809203          307   \n",
      "9         23              15881         15881   6231171          398   \n",
      "10        24                  6             6   3046572          332   \n",
      "11        25             136251        136251   2963218          263   \n",
      "12        27                  1             1  41335427          275   \n",
      "613     3753                 10            10  21457570            6   \n",
      "\n",
      "           isbn        isbn13                                  authors  \\\n",
      "1     439554934  9.780440e+12              J.K. Rowling, Mary GrandPré   \n",
      "6    043965548X  9.780440e+12  J.K. Rowling, Mary GrandPré, Rufus Beck   \n",
      "8     439358078  9.780439e+12              J.K. Rowling, Mary GrandPré   \n",
      "9     439064864  9.780439e+12              J.K. Rowling, Mary GrandPré   \n",
      "10    439139600  9.780439e+12              J.K. Rowling, Mary GrandPré   \n",
      "11    545010225  9.780545e+12              J.K. Rowling, Mary GrandPré   \n",
      "12    439785960  9.780440e+12              J.K. Rowling, Mary GrandPré   \n",
      "613   439827604  9.780440e+12                             J.K. Rowling   \n",
      "\n",
      "     original_publication_year                                original_title  \\\n",
      "1                       1997.0      Harry Potter and the Philosopher's Stone   \n",
      "6                       1999.0      Harry Potter and the Prisoner of Azkaban   \n",
      "8                       2003.0     Harry Potter and the Order of the Phoenix   \n",
      "9                       1998.0       Harry Potter and the Chamber of Secrets   \n",
      "10                      2000.0           Harry Potter and the Goblet of Fire   \n",
      "11                      2007.0          Harry Potter and the Deathly Hallows   \n",
      "12                      2005.0        Harry Potter and the Half-Blood Prince   \n",
      "613                     2005.0  Harry Potter Collection (Harry Potter, #1-6)   \n",
      "\n",
      "     ... ratings_count work_ratings_count  work_text_reviews_count  ratings_1  \\\n",
      "1    ...       4602479            4800065                    75867      75504   \n",
      "6    ...       1832823            1969375                    36099       6716   \n",
      "8    ...       1735368            1840548                    28685       9528   \n",
      "9    ...       1779331            1906199                    34172       8253   \n",
      "10   ...       1753043            1868642                    31084       6676   \n",
      "11   ...       1746574            1847395                    51942       9363   \n",
      "12   ...       1678823            1785676                    27520       7308   \n",
      "613  ...         24618              26274                      882        203   \n",
      "\n",
      "     ratings_2  ratings_3  ratings_4  ratings_5  \\\n",
      "1       101676     455024    1156318    3011543   \n",
      "6        20413     166129     509447    1266670   \n",
      "8        31577     180210     494427    1124806   \n",
      "9        42251     242345     548266    1065084   \n",
      "10       20210     151785     494926    1195045   \n",
      "11       22245     113646     383914    1318227   \n",
      "12       21516     136333     459028    1161491   \n",
      "613        186        946       3891      21048   \n",
      "\n",
      "                                             image_url  \\\n",
      "1    https://images.gr-assets.com/books/1474154022m...   \n",
      "6    https://images.gr-assets.com/books/1499277281m...   \n",
      "8    https://images.gr-assets.com/books/1387141547m...   \n",
      "9    https://images.gr-assets.com/books/1474169725m...   \n",
      "10   https://images.gr-assets.com/books/1361482611m...   \n",
      "11   https://images.gr-assets.com/books/1474171184m...   \n",
      "12   https://images.gr-assets.com/books/1361039191m...   \n",
      "613  https://images.gr-assets.com/books/1328867351m...   \n",
      "\n",
      "                                       small_image_url  \n",
      "1    https://images.gr-assets.com/books/1474154022s...  \n",
      "6    https://images.gr-assets.com/books/1499277281s...  \n",
      "8    https://images.gr-assets.com/books/1387141547s...  \n",
      "9    https://images.gr-assets.com/books/1474169725s...  \n",
      "10   https://images.gr-assets.com/books/1361482611s...  \n",
      "11   https://images.gr-assets.com/books/1474171184s...  \n",
      "12   https://images.gr-assets.com/books/1361039191s...  \n",
      "613  https://images.gr-assets.com/books/1328867351s...  \n",
      "\n",
      "[8 rows x 23 columns]\n"
     ]
    }
   ],
   "source": [
    "import pandas as pd\n",
    "import matplotlib.pyplot as plt\n",
    "from matplotlib.backends.backend_pdf import PdfPages\n",
    "\n",
    "df = pd.read_csv('books.csv')\n",
    "df = df.drop_duplicates()\n",
    "df = df.dropna()\n",
    "\n",
    "HarryPotter_Books = df[df['original_title'].str.startswith('Harry Potter')]\n",
    "print(\"All Harry Potter books:\\n\")\n",
    "print(HarryPotter_Books)"
   ]
  },
  {
   "cell_type": "markdown",
   "id": "60943174-d07e-454e-a387-2429ab1660bc",
   "metadata": {},
   "source": [
    "# Getting the most selling Harry Potter Book based on the number of work ratings:"
   ]
  },
  {
   "cell_type": "code",
   "execution_count": 83,
   "id": "8e4c1427-2828-4bea-871d-fa3412e302fa",
   "metadata": {},
   "outputs": [
    {
     "name": "stdout",
     "output_type": "stream",
     "text": [
      "Most selling Harry Potter book: Harry Potter and the Philosopher's Stone\n",
      "Number of sales: 4800065\n"
     ]
    }
   ],
   "source": [
    "mostSelling_index = HarryPotter_Books['work_ratings_count'].idxmax()\n",
    "mostSelling = HarryPotter_Books.loc[mostSelling_index]\n",
    "most_selling_text = f\"Most selling Harry Potter book: {mostSelling['original_title']}\\nNumber of sales: {mostSelling['work_ratings_count']}\"\n",
    "print(most_selling_text)      "
   ]
  },
  {
   "cell_type": "markdown",
   "id": "f85fe5a3-a838-4172-8896-0350c06881f8",
   "metadata": {},
   "source": [
    "# Calculating the average rating of the Harry Potter books in the dataset:"
   ]
  },
  {
   "cell_type": "code",
   "execution_count": 84,
   "id": "b3dbc25b-bcf0-49d9-8ff6-b160cc21ccf0",
   "metadata": {},
   "outputs": [
    {
     "name": "stdout",
     "output_type": "stream",
     "text": [
      "Average rating of the Harry Potter Books: 4.52625\n"
     ]
    }
   ],
   "source": [
    "average_rating_of_HarryPotter_books = HarryPotter_Books['average_rating'].mean()\n",
    "average_rating_text = f\"Average rating of the Harry Potter Books: {average_rating_of_HarryPotter_books}\"\n",
    "print(average_rating_text)"
   ]
  },
  {
   "cell_type": "markdown",
   "id": "ca701bca-d919-4db3-8b30-8496d52860db",
   "metadata": {},
   "source": [
    "# Creating the Plots and saving them to the PDF"
   ]
  },
  {
   "cell_type": "code",
   "execution_count": 88,
   "id": "fe47fa58-27af-4030-938c-12085fe3b4eb",
   "metadata": {},
   "outputs": [
    {
     "name": "stdout",
     "output_type": "stream",
     "text": [
      "PDF saved successfully\n"
     ]
    }
   ],
   "source": [
    "with PdfPages('HarryPotter_Books_Data_Analysis.pdf') as pdf:\n",
    "    plt.figure(figsize=(16,9))\n",
    "    plt.hist(HarryPotter_Books['average_rating'], bins=25, color='skyblue', edgecolor='black')\n",
    "    plt.xlabel('Average Rating')\n",
    "    plt.ylabel('Frequency')\n",
    "    plt.title('Histogram of Ratings for Harry Potter Books')\n",
    "    plt.text(0.05, 1.08, average_rating_text, size=16, transform=plt.gca().transAxes, verticalalignment='top')\n",
    "    plt.grid(True)\n",
    "    plt.grid(True)\n",
    "    pdf.savefig()\n",
    "    plt.close()\n",
    "    plt.figure(figsize=(16, 9))\n",
    "    plt.bar(HarryPotter_Books.original_title, HarryPotter_Books['work_ratings_count'])\n",
    "    plt.xticks(rotation=10)\n",
    "    plt.title('Sales for Harry Potter Books')\n",
    "    plt.xlabel('Index')\n",
    "    plt.ylabel('Number of work ratings')\n",
    "    plt.text(0.05, 1.08, most_selling_text, size=16, transform=plt.gca().transAxes, verticalalignment='top')\n",
    "    plt.grid(True)\n",
    "    pdf.savefig()  \n",
    "    plt.close()\n",
    "\n",
    "print(\"PDF saved successfully\")"
   ]
  },
  {
   "cell_type": "code",
   "execution_count": null,
   "id": "ed8d1638-8241-4a33-9383-eb20bfec91da",
   "metadata": {},
   "outputs": [],
   "source": []
  }
 ],
 "metadata": {
  "kernelspec": {
   "display_name": "Python 3 (ipykernel)",
   "language": "python",
   "name": "python3"
  },
  "language_info": {
   "codemirror_mode": {
    "name": "ipython",
    "version": 3
   },
   "file_extension": ".py",
   "mimetype": "text/x-python",
   "name": "python",
   "nbconvert_exporter": "python",
   "pygments_lexer": "ipython3",
   "version": "3.11.6"
  }
 },
 "nbformat": 4,
 "nbformat_minor": 5
}
